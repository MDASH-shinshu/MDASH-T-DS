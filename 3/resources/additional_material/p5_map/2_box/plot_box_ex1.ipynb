{
 "cells": [
  {
   "cell_type": "code",
   "execution_count": 1,
   "metadata": {},
   "outputs": [],
   "source": [
    "#  解析に必要なツールを import する.\n",
    "#    pandas: データ解析を支援するライブラリ\n",
    "import pandas as pd\n",
    "\n",
    "#    numpy, matplotlib: グラフ作成を支援するライブラリ\n",
    "import numpy as np\n",
    "import matplotlib.pyplot as plt"
   ]
  },
  {
   "cell_type": "code",
   "execution_count": 2,
   "metadata": {},
   "outputs": [],
   "source": [
    "#   データ (Score.xlsx) を読み込む.\n",
    "df = pd.read_excel('Score.xlsx')"
   ]
  },
  {
   "cell_type": "code",
   "execution_count": 3,
   "metadata": {},
   "outputs": [
    {
     "name": "stdout",
     "output_type": "stream",
     "text": [
      "   Statistics\n",
      "0          71\n",
      "1          95\n",
      "2          75\n",
      "3          55\n",
      "4          67\n",
      "5          61\n",
      "6          86\n"
     ]
    }
   ],
   "source": [
    "# データ df を確認\n",
    "print(df)"
   ]
  },
  {
   "cell_type": "code",
   "execution_count": 4,
   "metadata": {},
   "outputs": [
    {
     "data": {
      "image/png": "[encoded data removed]",
      "text/plain": [
       "<Figure size 432x288 with 1 Axes>"
      ]
     },
     "metadata": {
      "needs_background": "light"
     },
     "output_type": "display_data"
    }
   ],
   "source": [
    "# 箱ひげ図を作成\n",
    "df.plot.box()\n",
    "plt.ylim([0,100])\n",
    "plt.ylabel('Score')\n",
    "plt.savefig('box_ex1.png')"
   ]
  },
  {
   "cell_type": "code",
   "execution_count": null,
   "metadata": {},
   "outputs": [],
   "source": []
  }
 ],
 "metadata": {
  "kernelspec": {
   "display_name": "Python 3",
   "language": "python",
   "name": "python3"
  },
  "language_info": {
   "codemirror_mode": {
    "name": "ipython",
    "version": 3
   },
   "file_extension": ".py",
   "mimetype": "text/x-python",
   "name": "python",
   "nbconvert_exporter": "python",
   "pygments_lexer": "ipython3",
   "version": "3.7.6"
  }
 },
 "nbformat": 4,
 "nbformat_minor": 4
}
