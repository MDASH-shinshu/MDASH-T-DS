{
 "cells": [
  {
   "cell_type": "code",
   "execution_count": 1,
   "metadata": {},
   "outputs": [],
   "source": [
    "#  解析に必要なツールを import する.\n",
    "#    pandas: データ解析を支援するライブラリ\n",
    "import pandas as pd\n",
    "\n",
    "#    numpy, matplotlib: グラフ作成を支援するライブラリ\n",
    "import numpy as np\n",
    "import matplotlib.pyplot as plt"
   ]
  },
  {
   "cell_type": "code",
   "execution_count": 2,
   "metadata": {},
   "outputs": [],
   "source": [
    "#     データ (udon.xlsx) を読み込む.\n",
    "data = pd.read_excel('udon.xlsx', header=None)"
   ]
  },
  {
   "cell_type": "code",
   "execution_count": 3,
   "metadata": {},
   "outputs": [
    {
     "data": {
      "text/plain": [
       "0        Tokyo\n",
       "1        Osaka\n",
       "2    Takamatsu\n",
       "3         Naha\n",
       "4      Average\n",
       "Name: 0, dtype: object"
      ]
     },
     "execution_count": 3,
     "metadata": {},
     "output_type": "execute_result"
    }
   ],
   "source": [
    "#   1列目のデータを確認\n",
    "data[0]"
   ]
  },
  {
   "cell_type": "code",
   "execution_count": 4,
   "metadata": {},
   "outputs": [
    {
     "data": {
      "text/plain": [
       "0    10594\n",
       "1     9026\n",
       "2    20807\n",
       "3     3271\n",
       "4     9838\n",
       "Name: 1, dtype: int64"
      ]
     },
     "execution_count": 4,
     "metadata": {},
     "output_type": "execute_result"
    }
   ],
   "source": [
    "#   2列目のデータを確認\n",
    "data[1]"
   ]
  },
  {
   "cell_type": "code",
   "execution_count": 5,
   "metadata": {},
   "outputs": [],
   "source": [
    "#  city: 都市名\n",
    "city= data[0]\n",
    "#  udon: 1年間のうどん, そばの費用\n",
    "udon= data[1]"
   ]
  },
  {
   "cell_type": "code",
   "execution_count": 6,
   "metadata": {},
   "outputs": [
    {
     "data": {
      "image/png": "[encoded data removed]",
      "text/plain": [
       "<Figure size 432x288 with 1 Axes>"
      ]
     },
     "metadata": {
      "needs_background": "light"
     },
     "output_type": "display_data"
    }
   ],
   "source": [
    "# Figureを設定\n",
    "fig = plt.figure()\n",
    "\n",
    "# Axesを追加\n",
    "ax = fig.add_subplot(111)\n",
    "\n",
    "# 軸ラベルの設定\n",
    "ax.set_xlabel(\"city\", size = 14, weight = \"light\")\n",
    "ax.set_ylabel(\"Udon [yen/ year]\", size = 14, weight = \"light\")\n",
    "\n",
    "# y軸の目盛設定\n",
    "ax.set_yticks([0, 5000, 10000, 15000, 20000])\n",
    "\n",
    "ax.bar( city, udon, align=\"center\")\n",
    "fig.savefig('bar.png')"
   ]
  },
  {
   "cell_type": "code",
   "execution_count": null,
   "metadata": {},
   "outputs": [],
   "source": []
  }
 ],
 "metadata": {
  "kernelspec": {
   "display_name": "Python 3",
   "language": "python",
   "name": "python3"
  },
  "language_info": {
   "codemirror_mode": {
    "name": "ipython",
    "version": 3
   },
   "file_extension": ".py",
   "mimetype": "text/x-python",
   "name": "python",
   "nbconvert_exporter": "python",
   "pygments_lexer": "ipython3",
   "version": "3.7.6"
  }
 },
 "nbformat": 4,
 "nbformat_minor": 4
}
