{
 "cells": [
  {
   "cell_type": "code",
   "execution_count": 1,
   "metadata": {},
   "outputs": [],
   "source": [
    "#  グラフ作成に必要なツールを import する.\n",
    "#    pandas: データ解析を支援するライブラリ\n",
    "import pandas as pd\n",
    "\n",
    "#    numpy, matplotlib: グラフ作成を支援するライブラリ\n",
    "import numpy as np\n",
    "import matplotlib.pyplot as plt"
   ]
  },
  {
   "cell_type": "code",
   "execution_count": 2,
   "metadata": {},
   "outputs": [],
   "source": [
    "#     データ (numbers.xlsx) を読み込む.\n",
    "data = pd.read_excel('numbers.xlsx', header=None)\n",
    "#  year:  年\n",
    "year = data[0]\n",
    "#  num:  合格者数\n",
    "num = data[1]"
   ]
  },
  {
   "cell_type": "code",
   "execution_count": 3,
   "metadata": {},
   "outputs": [
    {
     "data": {
      "image/png": "[encoded data removed]",
      "text/plain": [
       "<Figure size 432x288 with 1 Axes>"
      ]
     },
     "metadata": {
      "needs_background": "light"
     },
     "output_type": "display_data"
    }
   ],
   "source": [
    "# 棒グラフ:  変化を大げさに見せる例\n",
    "fig = plt.figure()\n",
    "\n",
    "# Axesを追加\n",
    "ax = fig.add_subplot(111)\n",
    "\n",
    "# 軸ラベルの設定\n",
    "ax.set_ylabel(\"# Accepted\", size = 14, weight = \"light\")\n",
    "\n",
    "# y軸の目盛設定:  変化を大げさに見せるために工夫\n",
    "plt.ylim(80, 90)\n",
    "ax.set_xticks([2019, 2020, 2021])\n",
    "ax.set_yticks([80, 85, 90])\n",
    "\n",
    "ax.bar( year, num, align=\"center\")\n",
    "fig.savefig('DS_number_ex1.png')"
   ]
  },
  {
   "cell_type": "code",
   "execution_count": 4,
   "metadata": {},
   "outputs": [
    {
     "data": {
      "image/png": "[encoded data removed]",
      "text/plain": [
       "<Figure size 432x288 with 1 Axes>"
      ]
     },
     "metadata": {
      "needs_background": "light"
     },
     "output_type": "display_data"
    }
   ],
   "source": [
    "# 棒グラフ:  作り直したグラフ (0を基準)\n",
    "fig = plt.figure()\n",
    "\n",
    "# Axesを追加\n",
    "ax = fig.add_subplot(111)\n",
    "\n",
    "# 軸ラベルの設定\n",
    "ax.set_ylabel(\"# Accepted\", size = 14, weight = \"light\")\n",
    "ax.set_xticks([2019, 2020, 2021])\n",
    "\n",
    "ax.bar( year, num, align=\"center\")\n",
    "fig.savefig('DS_number_ex2.png')"
   ]
  },
  {
   "cell_type": "code",
   "execution_count": null,
   "metadata": {},
   "outputs": [],
   "source": []
  }
 ],
 "metadata": {
  "kernelspec": {
   "display_name": "Python 3",
   "language": "python",
   "name": "python3"
  },
  "language_info": {
   "codemirror_mode": {
    "name": "ipython",
    "version": 3
   },
   "file_extension": ".py",
   "mimetype": "text/x-python",
   "name": "python",
   "nbconvert_exporter": "python",
   "pygments_lexer": "ipython3",
   "version": "3.7.6"
  }
 },
 "nbformat": 4,
 "nbformat_minor": 4
}
