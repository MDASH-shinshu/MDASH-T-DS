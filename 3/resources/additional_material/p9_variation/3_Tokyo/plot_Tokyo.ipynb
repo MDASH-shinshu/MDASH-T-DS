{
 "cells": [
  {
   "cell_type": "code",
   "execution_count": 1,
   "metadata": {},
   "outputs": [],
   "source": [
    "#  解析に必要なツールを import する.\n",
    "#    pandas: データ解析を支援するライブラリ\n",
    "import pandas as pd\n",
    "\n",
    "#    numpy, matplotlib: グラフ作成を支援するライブラリ\n",
    "import numpy as np\n",
    "import matplotlib.pyplot as plt"
   ]
  },
  {
   "cell_type": "code",
   "execution_count": 2,
   "metadata": {},
   "outputs": [],
   "source": [
    "#     データ (Tokyo.xlsx) を読み込む.\n",
    "data = pd.read_excel(\"Tokyo.xlsx\")"
   ]
  },
  {
   "cell_type": "code",
   "execution_count": 3,
   "metadata": {},
   "outputs": [
    {
     "data": {
      "text/plain": [
       "0      1900\n",
       "1      1901\n",
       "2      1902\n",
       "3      1903\n",
       "4      1904\n",
       "5      1905\n",
       "6      1906\n",
       "7      1907\n",
       "8      1908\n",
       "9      1909\n",
       "10     1910\n",
       "11     1911\n",
       "12     1912\n",
       "13     1913\n",
       "14     1914\n",
       "15     1915\n",
       "16     1916\n",
       "17     1917\n",
       "18     1918\n",
       "19     1919\n",
       "20     1920\n",
       "21     1921\n",
       "22     1922\n",
       "23     1923\n",
       "24     1924\n",
       "25     1925\n",
       "26     1926\n",
       "27     1927\n",
       "28     1928\n",
       "29     1929\n",
       "       ... \n",
       "91     1991\n",
       "92     1992\n",
       "93     1993\n",
       "94     1994\n",
       "95     1995\n",
       "96     1996\n",
       "97     1997\n",
       "98     1998\n",
       "99     1999\n",
       "100    2000\n",
       "101    2001\n",
       "102    2002\n",
       "103    2003\n",
       "104    2004\n",
       "105    2005\n",
       "106    2006\n",
       "107    2007\n",
       "108    2008\n",
       "109    2009\n",
       "110    2010\n",
       "111    2011\n",
       "112    2012\n",
       "113    2013\n",
       "114    2014\n",
       "115    2015\n",
       "116    2016\n",
       "117    2017\n",
       "118    2018\n",
       "119    2019\n",
       "120    2020\n",
       "Name: Year, Length: 121, dtype: int64"
      ]
     },
     "execution_count": 3,
     "metadata": {},
     "output_type": "execute_result"
    }
   ],
   "source": [
    "#   1列目のデータを確認\n",
    "data[\"Year\"]"
   ]
  },
  {
   "cell_type": "code",
   "execution_count": 4,
   "metadata": {},
   "outputs": [
    {
     "data": {
      "text/plain": [
       "0      13.575000\n",
       "1      13.850000\n",
       "2      13.733333\n",
       "3      13.691667\n",
       "4      13.741667\n",
       "5      13.491667\n",
       "6      13.141667\n",
       "7      13.491667\n",
       "8      13.233333\n",
       "9      13.575000\n",
       "10     13.483333\n",
       "11     14.416667\n",
       "12     13.900000\n",
       "13     13.375000\n",
       "14     14.658333\n",
       "15     14.191667\n",
       "16     14.483333\n",
       "17     13.633333\n",
       "18     13.783333\n",
       "19     14.050000\n",
       "20     14.150000\n",
       "21     13.608333\n",
       "22     14.441667\n",
       "23     14.233333\n",
       "24     13.983333\n",
       "25     13.825000\n",
       "26     13.616667\n",
       "27     14.116667\n",
       "28     14.133333\n",
       "29     14.275000\n",
       "         ...    \n",
       "91     16.375000\n",
       "92     15.991667\n",
       "93     15.508333\n",
       "94     16.875000\n",
       "95     16.300000\n",
       "96     15.808333\n",
       "97     16.675000\n",
       "98     16.716667\n",
       "99     17.033333\n",
       "100    16.858333\n",
       "101    16.491667\n",
       "102    16.708333\n",
       "103    16.008333\n",
       "104    17.341667\n",
       "105    16.216667\n",
       "106    16.391667\n",
       "107    16.966667\n",
       "108    16.425000\n",
       "109    16.691667\n",
       "110    16.883333\n",
       "111    16.483333\n",
       "112    16.300000\n",
       "113    17.083333\n",
       "114    16.583333\n",
       "115    16.383333\n",
       "116    16.441667\n",
       "117    15.808333\n",
       "118    16.791667\n",
       "119    16.450000\n",
       "120    16.533333\n",
       "Name: Temperature, Length: 121, dtype: float64"
      ]
     },
     "execution_count": 4,
     "metadata": {},
     "output_type": "execute_result"
    }
   ],
   "source": [
    "#   2列目のデータを確認\n",
    "data[\"Temperature\"]"
   ]
  },
  {
   "cell_type": "code",
   "execution_count": 5,
   "metadata": {},
   "outputs": [
    {
     "data": {
      "image/png": "[encoded data removed]",
      "text/plain": [
       "<Figure size 432x288 with 1 Axes>"
      ]
     },
     "metadata": {
      "needs_background": "light"
     },
     "output_type": "display_data"
    }
   ],
   "source": [
    "#　　Figureを設定\n",
    "fig = plt.figure()\n",
    "\n",
    "#　　Axesを追加\n",
    "ax = fig.add_subplot(1,1,1)\n",
    "ax.plot(data['Year'], data['Temperature'])\n",
    "\n",
    "#　　軸ラベルの設定\n",
    "plt.xlabel(\"Year\")\n",
    "plt.ylabel(\"Temperature\")\n",
    "\n",
    "#　　グラフを保存\n",
    "fig.savefig('Tokyo.png')"
   ]
  },
  {
   "cell_type": "code",
   "execution_count": null,
   "metadata": {},
   "outputs": [],
   "source": []
  }
 ],
 "metadata": {
  "kernelspec": {
   "display_name": "Python 3",
   "language": "python",
   "name": "python3"
  },
  "language_info": {
   "codemirror_mode": {
    "name": "ipython",
    "version": 3
   },
   "file_extension": ".py",
   "mimetype": "text/x-python",
   "name": "python",
   "nbconvert_exporter": "python",
   "pygments_lexer": "ipython3",
   "version": "3.7.6"
  }
 },
 "nbformat": 4,
 "nbformat_minor": 4
}
