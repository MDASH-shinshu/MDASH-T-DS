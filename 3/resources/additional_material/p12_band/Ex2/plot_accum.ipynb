{
 "cells": [
  {
   "cell_type": "code",
   "execution_count": 1,
   "metadata": {},
   "outputs": [],
   "source": [
    "#  解析に必要なツールを import する.\n",
    "#    pandas: データ解析を支援するライブラリ\n",
    "import pandas as pd\n",
    "\n",
    "#    numpy, matplotlib: グラフ作成を支援するライブラリ\n",
    "import numpy as np\n",
    "import matplotlib.pyplot as plt"
   ]
  },
  {
   "cell_type": "code",
   "execution_count": 2,
   "metadata": {},
   "outputs": [
    {
     "data": {
      "text/html": [
       "<div>\n",
       "<style scoped>\n",
       "    .dataframe tbody tr th:only-of-type {\n",
       "        vertical-align: middle;\n",
       "    }\n",
       "\n",
       "    .dataframe tbody tr th {\n",
       "        vertical-align: top;\n",
       "    }\n",
       "\n",
       "    .dataframe thead th {\n",
       "        text-align: right;\n",
       "    }\n",
       "</style>\n",
       "<table border=\"1\" class=\"dataframe\">\n",
       "  <thead>\n",
       "    <tr style=\"text-align: right;\">\n",
       "      <th></th>\n",
       "      <th>1980</th>\n",
       "      <th>1990</th>\n",
       "      <th>2000</th>\n",
       "      <th>2010</th>\n",
       "      <th>2015</th>\n",
       "    </tr>\n",
       "  </thead>\n",
       "  <tbody>\n",
       "    <tr>\n",
       "      <th>火力</th>\n",
       "      <td>3176.56</td>\n",
       "      <td>4466.25</td>\n",
       "      <td>5216.25</td>\n",
       "      <td>7520.766215</td>\n",
       "      <td>8823.782090</td>\n",
       "    </tr>\n",
       "    <tr>\n",
       "      <th>水力</th>\n",
       "      <td>844.54</td>\n",
       "      <td>880.92</td>\n",
       "      <td>903.93</td>\n",
       "      <td>837.999839</td>\n",
       "      <td>871.180475</td>\n",
       "    </tr>\n",
       "    <tr>\n",
       "      <th>原子力</th>\n",
       "      <td>820.08</td>\n",
       "      <td>2014.01</td>\n",
       "      <td>3219.41</td>\n",
       "      <td>2882.304800</td>\n",
       "      <td>94.372850</td>\n",
       "    </tr>\n",
       "    <tr>\n",
       "      <th>新エネ等</th>\n",
       "      <td>8.72</td>\n",
       "      <td>14.85</td>\n",
       "      <td>56.46</td>\n",
       "      <td>253.462317</td>\n",
       "      <td>614.949631</td>\n",
       "    </tr>\n",
       "  </tbody>\n",
       "</table>\n",
       "</div>"
      ],
      "text/plain": [
       "         1980     1990     2000         2010         2015\n",
       "火力    3176.56  4466.25  5216.25  7520.766215  8823.782090\n",
       "水力     844.54   880.92   903.93   837.999839   871.180475\n",
       "原子力    820.08  2014.01  3219.41  2882.304800    94.372850\n",
       "新エネ等     8.72    14.85    56.46   253.462317   614.949631"
      ]
     },
     "execution_count": 2,
     "metadata": {},
     "output_type": "execute_result"
    }
   ],
   "source": [
    "#     データ (capacity.xlsx) を読み込む.\n",
    "data= pd.read_excel('capacity.xlsx', skiprows=[5], index_col=[0])\n",
    "data"
   ]
  },
  {
   "cell_type": "code",
   "execution_count": 3,
   "metadata": {},
   "outputs": [
    {
     "data": {
      "image/png": "[encoded data removed]",
      "text/plain": [
       "<Figure size 432x288 with 1 Axes>"
      ]
     },
     "metadata": {
      "needs_background": "light"
     },
     "output_type": "display_data"
    }
   ],
   "source": [
    "#　　Figureを設定\n",
    "fig = plt.figure()\n",
    "\n",
    "#　　Axesを追加\n",
    "ax = fig.add_subplot(1, 1, 1)\n",
    "\n",
    "#　　グラフのラベルを設定: 火力 (Karyoku), 水力 (Suiryoku), 原子力 (Gensi), 新エネ (SinnEne)\n",
    "labels=[\"Karyoku\", \"Suiryoku\", \"Gennsi\", \"SinnEne\"]\n",
    "colors = [\"orange\", \"cyan\", \"gray\", \"green\"]\n",
    "data.index = labels\n",
    "\n",
    "#　　グラフを出力\n",
    "data.T.plot.bar(y=labels, stacked=True, ax=ax, color= colors)\n",
    "#　　グラフを保存\n",
    "plt.savefig('accum.png')"
   ]
  },
  {
   "cell_type": "code",
   "execution_count": null,
   "metadata": {},
   "outputs": [],
   "source": []
  }
 ],
 "metadata": {
  "kernelspec": {
   "display_name": "Python 3",
   "language": "python",
   "name": "python3"
  },
  "language_info": {
   "codemirror_mode": {
    "name": "ipython",
    "version": 3
   },
   "file_extension": ".py",
   "mimetype": "text/x-python",
   "name": "python",
   "nbconvert_exporter": "python",
   "pygments_lexer": "ipython3",
   "version": "3.7.6"
  }
 },
 "nbformat": 4,
 "nbformat_minor": 4
}
