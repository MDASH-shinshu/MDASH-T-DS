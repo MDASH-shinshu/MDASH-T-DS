{
 "cells": [
  {
   "cell_type": "code",
   "execution_count": 1,
   "metadata": {},
   "outputs": [],
   "source": [
    "#  解析に必要なツールを import する.\n",
    "#    pandas: データ解析を支援するライブラリ\n",
    "import pandas as pd\n",
    "\n",
    "#    numpy, matplotlib: グラフ作成を支援するライブラリ\n",
    "import numpy as np\n",
    "import matplotlib.pyplot as plt"
   ]
  },
  {
   "cell_type": "code",
   "execution_count": 2,
   "metadata": {},
   "outputs": [],
   "source": [
    "#     データ (capacity_ratio.xlsx) を読み込む.\n",
    "downloaded = pd.read_excel('capacity_ratio.xlsx', skiprows=[5], index_col=[0])"
   ]
  },
  {
   "cell_type": "code",
   "execution_count": 3,
   "metadata": {},
   "outputs": [
    {
     "data": {
      "text/html": [
       "<div>\n",
       "<style scoped>\n",
       "    .dataframe tbody tr th:only-of-type {\n",
       "        vertical-align: middle;\n",
       "    }\n",
       "\n",
       "    .dataframe tbody tr th {\n",
       "        vertical-align: top;\n",
       "    }\n",
       "\n",
       "    .dataframe thead th {\n",
       "        text-align: right;\n",
       "    }\n",
       "</style>\n",
       "<table border=\"1\" class=\"dataframe\">\n",
       "  <thead>\n",
       "    <tr style=\"text-align: right;\">\n",
       "      <th></th>\n",
       "      <th>2015</th>\n",
       "      <th>2010</th>\n",
       "    </tr>\n",
       "  </thead>\n",
       "  <tbody>\n",
       "    <tr>\n",
       "      <th>火力</th>\n",
       "      <td>84.809115</td>\n",
       "      <td>65.429071</td>\n",
       "    </tr>\n",
       "    <tr>\n",
       "      <th>水力</th>\n",
       "      <td>8.373285</td>\n",
       "      <td>7.290421</td>\n",
       "    </tr>\n",
       "    <tr>\n",
       "      <th>原子力</th>\n",
       "      <td>0.907058</td>\n",
       "      <td>25.075440</td>\n",
       "    </tr>\n",
       "    <tr>\n",
       "      <th>新エネ等</th>\n",
       "      <td>5.910542</td>\n",
       "      <td>2.205068</td>\n",
       "    </tr>\n",
       "  </tbody>\n",
       "</table>\n",
       "</div>"
      ],
      "text/plain": [
       "           2015       2010\n",
       "火力    84.809115  65.429071\n",
       "水力     8.373285   7.290421\n",
       "原子力    0.907058  25.075440\n",
       "新エネ等   5.910542   2.205068"
      ]
     },
     "execution_count": 3,
     "metadata": {},
     "output_type": "execute_result"
    }
   ],
   "source": [
    "#　　データの抜き出し\n",
    "years = [2015, 2010]\n",
    "data = 100* downloaded[years]\n",
    "data"
   ]
  },
  {
   "cell_type": "code",
   "execution_count": 4,
   "metadata": {},
   "outputs": [
    {
     "data": {
      "image/png": "[encoded data removed]",
      "text/plain": [
       "<Figure size 432x288 with 1 Axes>"
      ]
     },
     "metadata": {
      "needs_background": "light"
     },
     "output_type": "display_data"
    }
   ],
   "source": [
    "#　　Figureを設定\n",
    "fig = plt.figure()\n",
    "\n",
    "#　　Axesを追加\n",
    "ax = fig.add_subplot(1, 1, 1)\n",
    "\n",
    "#　　グラフのラベルを設定: 火力 (Karyoku), 水力 (Suiryoku), 原子力 (Gensi), 新エネ (SinnEne)\n",
    "labels=[\"Karyoku\", \"Suiryoku\", \"Gennsi\", \"SinnEne\"]\n",
    "data.index = labels\n",
    "\n",
    "#　　色の設定\n",
    "colors = [\"orange\", \"cyan\", \"gray\", \"green\"]\n",
    "color_list = dict(zip(labels, colors))\n",
    "\n",
    "#　　縦軸の設定\n",
    "label = [\"2015\", \"2010\"]\n",
    "\n",
    "#　　グラフを出力\n",
    "for i in data.index:\n",
    "    ax.barh(label, data.loc[i], left=data.loc[:i].sum()-data.loc[i], color=color_list[i])\n",
    "\n",
    "#　　凡例を出力    \n",
    "ax.legend(data.index)\n",
    "plt.xlabel('Ratio (%)')\n",
    "\n",
    "#　　グラフを保存\n",
    "plt.savefig('band.png')"
   ]
  },
  {
   "cell_type": "code",
   "execution_count": null,
   "metadata": {},
   "outputs": [],
   "source": []
  }
 ],
 "metadata": {
  "kernelspec": {
   "display_name": "Python 3",
   "language": "python",
   "name": "python3"
  },
  "language_info": {
   "codemirror_mode": {
    "name": "ipython",
    "version": 3
   },
   "file_extension": ".py",
   "mimetype": "text/x-python",
   "name": "python",
   "nbconvert_exporter": "python",
   "pygments_lexer": "ipython3",
   "version": "3.7.6"
  }
 },
 "nbformat": 4,
 "nbformat_minor": 4
}
