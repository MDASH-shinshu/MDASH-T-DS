{
 "cells": [
  {
   "cell_type": "code",
   "execution_count": 1,
   "metadata": {},
   "outputs": [],
   "source": [
    "#  解析に必要なツールを import する.\n",
    "#    pandas: データ解析を支援するライブラリ\n",
    "import pandas as pd\n",
    "\n",
    "#    numpy, matplotlib: グラフ作成を支援するライブラリ\n",
    "import numpy as np\n",
    "import matplotlib.pyplot as plt"
   ]
  },
  {
   "cell_type": "code",
   "execution_count": 2,
   "metadata": {},
   "outputs": [
    {
     "data": {
      "text/html": [
       "<div>\n",
       "<style scoped>\n",
       "    .dataframe tbody tr th:only-of-type {\n",
       "        vertical-align: middle;\n",
       "    }\n",
       "\n",
       "    .dataframe tbody tr th {\n",
       "        vertical-align: top;\n",
       "    }\n",
       "\n",
       "    .dataframe thead th {\n",
       "        text-align: right;\n",
       "    }\n",
       "</style>\n",
       "<table border=\"1\" class=\"dataframe\">\n",
       "  <thead>\n",
       "    <tr style=\"text-align: right;\">\n",
       "      <th></th>\n",
       "      <th>2010</th>\n",
       "      <th>2015</th>\n",
       "    </tr>\n",
       "  </thead>\n",
       "  <tbody>\n",
       "    <tr>\n",
       "      <th>火力</th>\n",
       "      <td>0.654291</td>\n",
       "      <td>0.848091</td>\n",
       "    </tr>\n",
       "    <tr>\n",
       "      <th>水力</th>\n",
       "      <td>0.072904</td>\n",
       "      <td>0.083733</td>\n",
       "    </tr>\n",
       "    <tr>\n",
       "      <th>原子力</th>\n",
       "      <td>0.250754</td>\n",
       "      <td>0.009071</td>\n",
       "    </tr>\n",
       "    <tr>\n",
       "      <th>新エネ等</th>\n",
       "      <td>0.022051</td>\n",
       "      <td>0.059105</td>\n",
       "    </tr>\n",
       "  </tbody>\n",
       "</table>\n",
       "</div>"
      ],
      "text/plain": [
       "          2010      2015\n",
       "火力    0.654291  0.848091\n",
       "水力    0.072904  0.083733\n",
       "原子力   0.250754  0.009071\n",
       "新エネ等  0.022051  0.059105"
      ]
     },
     "execution_count": 2,
     "metadata": {},
     "output_type": "execute_result"
    }
   ],
   "source": [
    "#     データ (capacity_ratio.xlsx) を読み込む.\n",
    "data= pd.read_excel('capacity_ratio.xlsx', skiprows=[5], index_col=[0])\n",
    "data"
   ]
  },
  {
   "cell_type": "code",
   "execution_count": 3,
   "metadata": {},
   "outputs": [
    {
     "data": {
      "image/png": "[encoded data removed]",
      "text/plain": [
       "<Figure size 432x288 with 2 Axes>"
      ]
     },
     "metadata": {},
     "output_type": "display_data"
    }
   ],
   "source": [
    "#　　Figureを設定\n",
    "fig = plt.figure()\n",
    "\n",
    "#　　グラフのラベルを設定: 火力 (Ka), 水力 (Sui), 原子力 (Gensi), 新エネ (SinnEne)\n",
    "labels=[\"Karyoku\", \"Suiryoku\", \"Gennsi\", \"SinnEne\"]\n",
    "data.index = labels\n",
    "colors = [\"orange\", \"cyan\", \"gray\", \"green\"]\n",
    "\n",
    "#　　2010年の円グラフ\n",
    "fig.add_subplot(1, 2, 1)\n",
    "plt.title(\"2010\")\n",
    "plt.pie( data[2010], labels= data.index, startangle=90, autopct=\"%1.0f%%\", colors=colors, labeldistance=1.1)\n",
    "plt.axis('equal')\n",
    "\n",
    "#　　2015年の円グラフ\n",
    "fig.add_subplot(1, 2, 2)\n",
    "plt.title(\"2015\")\n",
    "plt.pie( data[2015], labels= data.index, startangle=90, autopct=\"%1.0f%%\", colors=colors, labeldistance=1.2)\n",
    "plt.axis('equal')\n",
    "\n",
    "#　　グラフを保存\n",
    "plt.savefig('circle.png')"
   ]
  },
  {
   "cell_type": "code",
   "execution_count": null,
   "metadata": {},
   "outputs": [],
   "source": []
  }
 ],
 "metadata": {
  "kernelspec": {
   "display_name": "Python 3",
   "language": "python",
   "name": "python3"
  },
  "language_info": {
   "codemirror_mode": {
    "name": "ipython",
    "version": 3
   },
   "file_extension": ".py",
   "mimetype": "text/x-python",
   "name": "python",
   "nbconvert_exporter": "python",
   "pygments_lexer": "ipython3",
   "version": "3.7.6"
  }
 },
 "nbformat": 4,
 "nbformat_minor": 4
}
